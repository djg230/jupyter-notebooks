{
  "nbformat": 4,
  "nbformat_minor": 0,
  "metadata": {
    "colab": {
      "name": "AttackComparison.ipynb",
      "provenance": [],
      "collapsed_sections": [],
      "include_colab_link": true
    },
    "kernelspec": {
      "display_name": "Python 3",
      "name": "python3"
    }
  },
  "cells": [
    {
      "cell_type": "markdown",
      "metadata": {
        "id": "view-in-github",
        "colab_type": "text"
      },
      "source": [
        "<a href=\"https://colab.research.google.com/github/djg230/jupyter-notebooks/blob/main/AttackComparison.ipynb\" target=\"_parent\"><img src=\"https://colab.research.google.com/assets/colab-badge.svg\" alt=\"Open In Colab\"/></a>"
      ]
    },
    {
      "cell_type": "code",
      "metadata": {
        "colab": {
          "base_uri": "https://localhost:8080/"
        },
        "id": "zlBGQWxQU9He",
        "outputId": "a1bdf25d-0ec0-4bf0-f0a7-a093f20218e8"
      },
      "source": [
        "!pip3 install foolbox==3.1.1\n",
        "# !pip3 install git+https://github.com/bethgelab/foolbox.git"
      ],
      "execution_count": null,
      "outputs": [
        {
          "output_type": "stream",
          "text": [
            "Requirement already satisfied: foolbox==3.1.1 in /usr/local/lib/python3.7/dist-packages (3.1.1)\n",
            "Requirement already satisfied: numpy in /usr/local/lib/python3.7/dist-packages (from foolbox==3.1.1) (1.19.5)\n",
            "Requirement already satisfied: requests>=2.24.0 in /usr/local/lib/python3.7/dist-packages (from foolbox==3.1.1) (2.25.1)\n",
            "Requirement already satisfied: eagerpy==0.29.0 in /usr/local/lib/python3.7/dist-packages (from foolbox==3.1.1) (0.29.0)\n",
            "Requirement already satisfied: scipy in /usr/local/lib/python3.7/dist-packages (from foolbox==3.1.1) (1.4.1)\n",
            "Requirement already satisfied: typing-extensions>=3.7.4.1 in /usr/local/lib/python3.7/dist-packages (from foolbox==3.1.1) (3.7.4.3)\n",
            "Requirement already satisfied: setuptools in /usr/local/lib/python3.7/dist-packages (from foolbox==3.1.1) (54.0.0)\n",
            "Requirement already satisfied: GitPython>=3.0.7 in /usr/local/lib/python3.7/dist-packages (from foolbox==3.1.1) (3.1.14)\n",
            "Requirement already satisfied: chardet<5,>=3.0.2 in /usr/local/lib/python3.7/dist-packages (from requests>=2.24.0->foolbox==3.1.1) (3.0.4)\n",
            "Requirement already satisfied: certifi>=2017.4.17 in /usr/local/lib/python3.7/dist-packages (from requests>=2.24.0->foolbox==3.1.1) (2020.12.5)\n",
            "Requirement already satisfied: urllib3<1.27,>=1.21.1 in /usr/local/lib/python3.7/dist-packages (from requests>=2.24.0->foolbox==3.1.1) (1.24.3)\n",
            "Requirement already satisfied: idna<3,>=2.5 in /usr/local/lib/python3.7/dist-packages (from requests>=2.24.0->foolbox==3.1.1) (2.10)\n",
            "Requirement already satisfied: gitdb<5,>=4.0.1 in /usr/local/lib/python3.7/dist-packages (from GitPython>=3.0.7->foolbox==3.1.1) (4.0.5)\n",
            "Requirement already satisfied: smmap<4,>=3.0.1 in /usr/local/lib/python3.7/dist-packages (from gitdb<5,>=4.0.1->GitPython>=3.0.7->foolbox==3.1.1) (3.0.5)\n"
          ],
          "name": "stdout"
        }
      ]
    },
    {
      "cell_type": "code",
      "metadata": {
        "id": "EoSl-i8TVC_t"
      },
      "source": [
        "import foolbox as fb\n",
        "import foolbox.attacks as fa"
      ],
      "execution_count": null,
      "outputs": []
    },
    {
      "cell_type": "code",
      "metadata": {
        "id": "cNiOhW7WRp3T"
      },
      "source": [
        "\n",
        "import eagerpy as ep\n",
        "from foolbox import PyTorchModel, accuracy, samples\n",
        "import foolbox.attacks as fa\n",
        "import numpy as np\n",
        "import matplotlib.pyplot as plt\n",
        "import datetime"
      ],
      "execution_count": null,
      "outputs": []
    },
    {
      "cell_type": "code",
      "metadata": {
        "id": "_kdF_DVFVSr0"
      },
      "source": [
        "import torch\n",
        "import torchvision"
      ],
      "execution_count": null,
      "outputs": []
    },
    {
      "cell_type": "code",
      "metadata": {
        "colab": {
          "base_uri": "https://localhost:8080/",
          "height": 35
        },
        "id": "aRO0HuxqXJgK",
        "outputId": "21c56b53-172b-4004-9d9e-80955e0108e6"
      },
      "source": [
        "torch.__version__"
      ],
      "execution_count": null,
      "outputs": [
        {
          "output_type": "execute_result",
          "data": {
            "application/vnd.google.colaboratory.intrinsic+json": {
              "type": "string"
            },
            "text/plain": [
              "'1.8.0+cu101'"
            ]
          },
          "metadata": {
            "tags": []
          },
          "execution_count": 6
        }
      ]
    },
    {
      "cell_type": "code",
      "metadata": {
        "colab": {
          "base_uri": "https://localhost:8080/"
        },
        "id": "3zDEtwWxXbs7",
        "outputId": "49ea6d9a-e217-4f6d-889d-ef3f9dea8f71"
      },
      "source": [
        "torch.cuda.is_available()"
      ],
      "execution_count": null,
      "outputs": [
        {
          "output_type": "execute_result",
          "data": {
            "text/plain": [
              "False"
            ]
          },
          "metadata": {
            "tags": []
          },
          "execution_count": 7
        }
      ]
    },
    {
      "cell_type": "markdown",
      "metadata": {
        "id": "2XFQS6U6d7Mj"
      },
      "source": [
        "\n",
        "# Import resnet18 model and preprocess"
      ]
    },
    {
      "cell_type": "code",
      "metadata": {
        "id": "aIIdvWBKXusw"
      },
      "source": [
        "model = torchvision.models.resnet18(pretrained=True)"
      ],
      "execution_count": null,
      "outputs": []
    },
    {
      "cell_type": "code",
      "metadata": {
        "id": "LP04sNV4XdxH"
      },
      "source": [
        "model = model.eval()"
      ],
      "execution_count": null,
      "outputs": []
    },
    {
      "cell_type": "code",
      "metadata": {
        "id": "4jT-svy6X_yd"
      },
      "source": [
        "# PyTorch ResNet18\n",
        "preprocessing = dict(mean=[0.485, 0.456, 0.406], std=[0.229, 0.224, 0.225], axis=-3)\n",
        "bounds = (0, 1)\n",
        "fmodel = fb.PyTorchModel(model, bounds=bounds, preprocessing=preprocessing)"
      ],
      "execution_count": null,
      "outputs": []
    },
    {
      "cell_type": "code",
      "metadata": {
        "id": "DXEadaweifZ9"
      },
      "source": [
        "fmodel = fmodel.transform_bounds((0, 1))\n",
        "assert fmodel.bounds == (0, 1)"
      ],
      "execution_count": null,
      "outputs": []
    },
    {
      "cell_type": "code",
      "metadata": {
        "id": "HHHMy8HIizgz"
      },
      "source": [
        "images, labels = fb.utils.samples(fmodel, dataset='imagenet', batchsize=16)\n",
        "images = ep.astensor(images)\n",
        "labels = ep.astensor(labels)"
      ],
      "execution_count": null,
      "outputs": []
    },
    {
      "cell_type": "markdown",
      "metadata": {
        "id": "Py4aK039d_70"
      },
      "source": [
        "#The list of attacks being used. "
      ]
    },
    {
      "cell_type": "markdown",
      "metadata": {
        "id": "XoWjw8sUBL1K"
      },
      "source": [
        "The same epsilon of 0.5 is used for all attacks. I found that, since im attacking 16 images in each attack, using a range of epsilons caused each individual attack to take an incredibly long time, which is why i settled on attacking using one epsilon. Attacks that had a default step amount of over 100 had their steps set to 100."
      ]
    },
    {
      "cell_type": "code",
      "metadata": {
        "id": "YuRahT-rjzBI"
      },
      "source": [
        "#epsilons = np.linspace(0.0, 1, num=10)\n",
        "epsilons = 0.5\n",
        "attacks = [\n",
        "        fa.L2CarliniWagnerAttack(steps = 100),\n",
        "        fa.L2ContrastReductionAttack(),\n",
        "        fa.DDNAttack(),\n",
        "        fa.L2BasicIterativeAttack(),\n",
        "        fa.LinfBasicIterativeAttack(),\n",
        "        fa.L2AdditiveGaussianNoiseAttack(),\n",
        "        fa.SaltAndPepperNoiseAttack(steps = 100),\n",
        "        fa.NewtonFoolAttack(),\n",
        "        fa.L2ClippingAwareAdditiveGaussianNoiseAttack(),\n",
        "        fa.L2AdditiveUniformNoiseAttack()\n",
        "]"
      ],
      "execution_count": null,
      "outputs": []
    },
    {
      "cell_type": "markdown",
      "metadata": {
        "id": "TL-HG-gLBrTr"
      },
      "source": [
        "Running all of the attacks at once. I also listed each test individually, to test each one isolated."
      ]
    },
    {
      "cell_type": "code",
      "metadata": {
        "colab": {
          "base_uri": "https://localhost:8080/"
        },
        "id": "mtmwJ23IuMOc",
        "outputId": "eb30b9bb-ca8a-4e30-c2a8-75d317b44d17"
      },
      "source": [
        "  for attack in attacks:\n",
        "    start = datetime.datetime.now()\n",
        "    advs, _, is_adv = attack(fmodel, images, labels, epsilons=epsilons)\n",
        "    end = datetime.datetime.now()\n",
        "    print(\"======ATTACK NAME: {} ======\".format(attack))\n",
        "    print(\"attack success rate:\")\n",
        "    attack_success_rate = is_adv.float32().mean(axis=-1)\n",
        "    print(attack_success_rate)\n",
        "    print(\"\")\n",
        "    print(\"L0 norms:\")\n",
        "    print(fb.distances.l0(images, advs))\n",
        "    print(\"\")\n",
        "    print(\"L1 norms:\")\n",
        "    print(fb.distances.l1(images, advs))\n",
        "    print(\"\")\n",
        "    print(\"L2 norms:\")\n",
        "    print(fb.distances.l2(images, advs))\n",
        "    print(\"\")\n",
        "    print(\"Linf norms:\")\n",
        "    print(fb.distances.linf(images, advs))\n",
        "    print(\"\")\n",
        "    print('Time cost: {} seconds'.format(((end-start).total_seconds())))"
      ],
      "execution_count": null,
      "outputs": [
        {
          "output_type": "stream",
          "text": [
            "======ATTACK NAME: L2CarliniWagnerAttack(binary_search_steps=9, steps=100, stepsize=0.01, confidence=0, initial_const=0.001, abort_early=True) ======\n",
            "attack success rate:\n",
            "PyTorchTensor(tensor(0.7500))\n",
            "\n",
            "L0 norms:\n",
            "PyTorchTensor(tensor([150528., 150528., 150527., 150528., 150527., 150527., 150525., 145556.,\n",
            "                      150527., 150528., 150528., 150521., 150528., 150528., 150528., 150528.]))\n",
            "\n",
            "L1 norms:\n",
            "PyTorchTensor(tensor([1.1014e+02, 2.2434e+02, 9.4654e+01, 9.2975e+01, 1.5225e+02, 1.1409e+02,\n",
            "                      7.0907e+01, 3.3154e-02, 1.8689e+02, 2.2659e+02, 1.0745e+02, 8.8289e+01,\n",
            "                      2.0281e+02, 1.1860e+02, 7.7198e+01, 2.1298e+02]))\n",
            "\n",
            "L2 norms:\n",
            "PyTorchTensor(tensor([3.2728e-01, 6.3755e-01, 3.0770e-01, 2.9790e-01, 4.0746e-01, 3.4634e-01,\n",
            "                      2.4577e-01, 9.5528e-05, 6.1016e-01, 6.4899e-01, 4.0220e-01, 2.7661e-01,\n",
            "                      5.4893e-01, 3.5090e-01, 2.6737e-01, 5.6474e-01]))\n",
            "\n",
            "Linf norms:\n",
            "PyTorchTensor(tensor([3.7018e-03, 2.3508e-03, 3.7060e-03, 3.7045e-03, 3.5225e-03, 3.6988e-03,\n",
            "                      2.0804e-03, 5.3644e-07, 2.0841e-02, 2.6069e-03, 1.4046e-02, 3.6287e-03,\n",
            "                      2.3587e-03, 3.7054e-03, 2.0804e-03, 2.3538e-03]))\n",
            "\n",
            "Time cost: 355.038212 seconds\n",
            "======ATTACK NAME: L2ContrastReductionAttack(target=0.5) ======\n",
            "attack success rate:\n",
            "PyTorchTensor(tensor(0.0625))\n",
            "\n",
            "L0 norms:\n",
            "PyTorchTensor(tensor([150528., 150528., 150528., 150528., 150528., 150528., 150528., 150528.,\n",
            "                      150528., 150528., 150528., 150528., 150528., 150528., 150528., 150528.]))\n",
            "\n",
            "L1 norms:\n",
            "PyTorchTensor(tensor([166.8194, 159.6962, 173.1231, 168.9075, 163.1219, 154.4686, 161.1778,\n",
            "                      173.2364, 173.8341, 175.0330, 164.9120, 178.4924, 161.4643, 154.1938,\n",
            "                      142.8475, 163.1408]))\n",
            "\n",
            "L2 norms:\n",
            "PyTorchTensor(tensor([0.5000, 0.5000, 0.5000, 0.5000, 0.5000, 0.5000, 0.5000, 0.5000, 0.5000,\n",
            "                      0.5000, 0.5000, 0.5000, 0.5000, 0.5000, 0.5000, 0.5000]))\n",
            "\n",
            "Linf norms:\n",
            "PyTorchTensor(tensor([0.0028, 0.0027, 0.0027, 0.0024, 0.0029, 0.0031, 0.0026, 0.0026, 0.0020,\n",
            "                      0.0023, 0.0024, 0.0019, 0.0027, 0.0040, 0.0048, 0.0031]))\n",
            "\n",
            "Time cost: 1.193652 seconds\n",
            "======ATTACK NAME: DDNAttack(init_epsilon=1.0, steps=10, gamma=0.05) ======\n",
            "attack success rate:\n",
            "PyTorchTensor(tensor(0.9375))\n",
            "\n",
            "L0 norms:\n",
            "PyTorchTensor(tensor([150448., 150522., 150440., 150461., 150465., 150236., 150526.,      0.,\n",
            "                      147024., 150525., 150253., 145054., 149745., 150524., 150514., 150525.]))\n",
            "\n",
            "L1 norms:\n",
            "PyTorchTensor(tensor([160.7968, 189.6474, 189.7328, 181.6257, 199.2549, 175.9453, 173.5303,\n",
            "                        0.0000, 181.4301, 196.5280, 191.1824, 176.8414, 190.9931, 191.1127,\n",
            "                      167.2569, 178.2067]))\n",
            "\n",
            "L2 norms:\n",
            "PyTorchTensor(tensor([0.6966, 0.6966, 0.6966, 0.6966, 0.6966, 0.6966, 0.6966, 0.0000, 0.7699,\n",
            "                      0.6966, 0.6966, 0.6966, 0.6966, 0.6966, 0.6966, 0.6966]))\n",
            "\n",
            "Linf norms:\n",
            "PyTorchTensor(tensor([0.0269, 0.0215, 0.0228, 0.0272, 0.0138, 0.0208, 0.0432, 0.0000, 0.0279,\n",
            "                      0.0171, 0.0185, 0.0279, 0.0223, 0.0164, 0.0308, 0.0240]))\n",
            "\n",
            "Time cost: 38.447325 seconds\n",
            "======ATTACK NAME: L2BasicIterativeAttack(rel_stepsize=0.2, abs_stepsize=None, steps=10, random_start=False) ======\n",
            "attack success rate:\n",
            "PyTorchTensor(tensor(1.))\n",
            "\n",
            "L0 norms:\n",
            "PyTorchTensor(tensor([150437., 150521., 150408., 150461., 150442., 150203., 150519., 150468.,\n",
            "                      146526., 150524., 150252., 142610., 149729., 150522., 150509., 150524.]))\n",
            "\n",
            "L1 norms:\n",
            "PyTorchTensor(tensor([110.7539, 137.1620, 137.8807, 126.3896, 139.6177, 119.2715, 126.9641,\n",
            "                      139.2509, 112.5932, 138.8176, 137.2087, 128.2414, 136.5792, 140.1086,\n",
            "                      121.0896, 124.6061]))\n",
            "\n",
            "L2 norms:\n",
            "PyTorchTensor(tensor([0.5000, 0.5000, 0.5000, 0.5000, 0.5000, 0.5000, 0.5000, 0.5000, 0.5000,\n",
            "                      0.5000, 0.5000, 0.4997, 0.5000, 0.5000, 0.5000, 0.5000]))\n",
            "\n",
            "Linf norms:\n",
            "PyTorchTensor(tensor([0.0250, 0.0160, 0.0138, 0.0237, 0.0129, 0.0236, 0.0179, 0.0137, 0.0192,\n",
            "                      0.0153, 0.0138, 0.0294, 0.0149, 0.0127, 0.0192, 0.0233]))\n",
            "\n",
            "Time cost: 38.865616 seconds\n",
            "======ATTACK NAME: LinfBasicIterativeAttack(rel_stepsize=0.2, abs_stepsize=None, steps=10, random_start=False) ======\n",
            "attack success rate:\n",
            "PyTorchTensor(tensor(1.))\n",
            "\n",
            "L0 norms:\n",
            "PyTorchTensor(tensor([127769., 126826., 124374., 130787., 121805., 123534., 126422., 132567.,\n",
            "                      134365., 128039., 126745., 127480., 127675., 120902., 114924., 124309.]))\n",
            "\n",
            "L1 norms:\n",
            "PyTorchTensor(tensor([28957.6719, 29583.4648, 28440.8301, 28092.3027, 29234.4336, 30235.0898,\n",
            "                      29055.1836, 28676.5820, 27591.8047, 27663.5410, 28834.8711, 27648.5625,\n",
            "                      29066.8301, 30981.5684, 31232.7070, 29364.8652]))\n",
            "\n",
            "L2 norms:\n",
            "PyTorchTensor(tensor([ 93.9197,  95.7196,  92.4944,  92.0553,  95.0104,  97.4319,  94.5973,\n",
            "                       93.0718,  91.2370,  90.8652,  93.9911,  91.5433,  94.3984,  99.2548,\n",
            "                      100.1334,  94.9984]))\n",
            "\n",
            "Linf norms:\n",
            "PyTorchTensor(tensor([0.5000, 0.5000, 0.5000, 0.5000, 0.5000, 0.5000, 0.5000, 0.5000, 0.5000,\n",
            "                      0.5000, 0.5000, 0.5000, 0.5000, 0.5000, 0.5000, 0.5000]))\n",
            "\n",
            "Time cost: 38.557122 seconds\n",
            "======ATTACK NAME: L2AdditiveGaussianNoiseAttack() ======\n",
            "attack success rate:\n",
            "PyTorchTensor(tensor(0.0625))\n",
            "\n",
            "L0 norms:\n",
            "PyTorchTensor(tensor([150434., 150514., 150364., 150457., 150425., 150162., 150522., 150442.,\n",
            "                      145842., 150521., 150232., 136945., 149723., 150520., 150501., 150524.]))\n",
            "\n",
            "L1 norms:\n",
            "PyTorchTensor(tensor([154.6597, 154.7212, 154.5301, 154.6556, 154.7379, 154.4843, 154.8055,\n",
            "                      154.8365, 149.9672, 154.6071, 154.5762, 140.8661, 153.8471, 154.7887,\n",
            "                      154.8706, 154.8349]))\n",
            "\n",
            "L2 norms:\n",
            "PyTorchTensor(tensor([0.4999, 0.5000, 0.4997, 0.4999, 0.4998, 0.4994, 0.5000, 0.4999, 0.4921,\n",
            "                      0.5000, 0.4995, 0.4769, 0.4987, 0.5000, 0.4999, 0.5000]))\n",
            "\n",
            "Linf norms:\n",
            "PyTorchTensor(tensor([0.0058, 0.0060, 0.0061, 0.0059, 0.0058, 0.0060, 0.0056, 0.0060, 0.0060,\n",
            "                      0.0058, 0.0057, 0.0064, 0.0058, 0.0063, 0.0060, 0.0057]))\n",
            "\n",
            "Time cost: 1.251609 seconds\n",
            "======ATTACK NAME: SaltAndPepperNoiseAttack(steps=100, across_channels=True, channel_axis=None) ======\n",
            "attack success rate:\n",
            "PyTorchTensor(tensor(0.0625))\n",
            "\n",
            "L0 norms:\n",
            "PyTorchTensor(tensor([6.9300e+02, 1.4730e+03, 4.0200e+02, 1.6110e+03, 2.3480e+04, 1.9200e+02,\n",
            "                      1.2000e+02, 0.0000e+00, 1.5410e+03, 4.3578e+04, 6.2070e+03, 2.1000e+02,\n",
            "                      3.0850e+04, 1.1930e+03, 3.9000e+01, 2.4900e+03]))\n",
            "\n",
            "L1 norms:\n",
            "PyTorchTensor(tensor([3.4937e+02, 7.1492e+02, 2.0042e+02, 7.8665e+02, 1.1709e+04, 1.0211e+02,\n",
            "                      5.9631e+01, 0.0000e+00, 7.5053e+02, 2.1723e+04, 3.0858e+03, 1.3481e+02,\n",
            "                      1.5509e+04, 6.0061e+02, 1.8035e+01, 1.2650e+03]))\n",
            "\n",
            "L2 norms:\n",
            "PyTorchTensor(tensor([ 14.5630,  20.7611,  11.1584,  22.2648,  83.6785,   7.9248,   6.0934,\n",
            "                        0.0000,  22.7300, 118.8762,  44.3400,  10.3063,  97.2330,  18.2436,\n",
            "                        3.0510,  27.4715]))\n",
            "\n",
            "Linf norms:\n",
            "PyTorchTensor(tensor([0.9922, 0.9882, 1.0000, 1.0000, 1.0000, 0.9961, 0.9843, 0.0000, 1.0000,\n",
            "                      1.0000, 1.0000, 1.0000, 1.0000, 0.9412, 0.6588, 0.9490]))\n",
            "\n",
            "Time cost: 123.094009 seconds\n",
            "======ATTACK NAME: NewtonFoolAttack(steps=100, stepsize=0.01) ======\n",
            "attack success rate:\n",
            "PyTorchTensor(tensor(0.6875))\n",
            "\n",
            "L0 norms:\n",
            "PyTorchTensor(tensor([150411., 150516., 150388., 150453., 150429., 150145., 150483.,      0.,\n",
            "                      145769., 150526., 150229., 137027., 149667., 150521., 150452., 150526.]))\n",
            "\n",
            "L1 norms:\n",
            "PyTorchTensor(tensor([2.2077e+01, 4.6774e+04, 3.7901e+01, 4.1145e+01, 8.2313e+03, 1.3383e+04,\n",
            "                      9.5795e+00, 0.0000e+00, 7.5173e+04, 7.3852e+04, 7.4473e+04, 3.3269e+02,\n",
            "                      1.0137e+02, 3.0762e+02, 1.1228e+01, 5.4563e+04]))\n",
            "\n",
            "L2 norms:\n",
            "PyTorchTensor(tensor([1.0502e-01, 1.4844e+02, 1.4213e-01, 1.6122e-01, 2.9372e+01, 5.6520e+01,\n",
            "                      3.9232e-02, 0.0000e+00, 2.2967e+02, 2.1837e+02, 2.1764e+02, 1.3587e+00,\n",
            "                      3.8557e-01, 1.1129e+00, 4.6521e-02, 1.6537e+02]))\n",
            "\n",
            "Linf norms:\n",
            "PyTorchTensor(tensor([0.0049, 1.0000, 0.0063, 0.0061, 0.6823, 0.9412, 0.0019, 0.0000, 1.0000,\n",
            "                      1.0000, 1.0000, 0.0688, 0.0129, 0.0279, 0.0022, 1.0000]))\n",
            "\n",
            "Time cost: 352.603899 seconds\n",
            "======ATTACK NAME: L2ClippingAwareAdditiveGaussianNoiseAttack() ======\n",
            "attack success rate:\n",
            "PyTorchTensor(tensor(0.0625))\n",
            "\n",
            "L0 norms:\n",
            "PyTorchTensor(tensor([150436., 150512., 150375., 150460., 150417., 150166., 150522., 150442.,\n",
            "                      145754., 150525., 150226., 137031., 149780., 150521., 150509., 150526.]))\n",
            "\n",
            "L1 norms:\n",
            "PyTorchTensor(tensor([154.6924, 154.8399, 154.7550, 154.7584, 154.9584, 154.6913, 154.8885,\n",
            "                      154.9325, 152.2523, 154.6819, 154.6207, 147.6521, 154.4625, 154.7610,\n",
            "                      154.7321, 154.7572]))\n",
            "\n",
            "L2 norms:\n",
            "PyTorchTensor(tensor([0.5000, 0.5000, 0.5000, 0.5000, 0.5000, 0.5000, 0.5000, 0.5000, 0.5000,\n",
            "                      0.5000, 0.5000, 0.5000, 0.5000, 0.5000, 0.5000, 0.5000]))\n",
            "\n",
            "Linf norms:\n",
            "PyTorchTensor(tensor([0.0063, 0.0061, 0.0060, 0.0060, 0.0059, 0.0059, 0.0058, 0.0058, 0.0067,\n",
            "                      0.0060, 0.0062, 0.0063, 0.0059, 0.0060, 0.0061, 0.0061]))\n",
            "\n",
            "Time cost: 1.767743 seconds\n",
            "======ATTACK NAME: L2AdditiveUniformNoiseAttack() ======\n",
            "attack success rate:\n",
            "PyTorchTensor(tensor(0.0625))\n",
            "\n",
            "L0 norms:\n",
            "PyTorchTensor(tensor([150433., 150515., 150368., 150459., 150418., 150172., 150519., 150450.,\n",
            "                      145767., 150524., 150235., 137042., 149710., 150518., 150503., 150523.]))\n",
            "\n",
            "L1 norms:\n",
            "PyTorchTensor(tensor([167.7937, 168.1034, 167.8359, 167.8849, 167.8468, 167.5878, 167.9818,\n",
            "                      167.8541, 162.7105, 168.0516, 167.6460, 152.7379, 167.2941, 168.0091,\n",
            "                      168.0339, 168.0999]))\n",
            "\n",
            "L2 norms:\n",
            "PyTorchTensor(tensor([0.4998, 0.5000, 0.4998, 0.4999, 0.4998, 0.4995, 0.5000, 0.4999, 0.4922,\n",
            "                      0.5000, 0.4995, 0.4767, 0.4987, 0.5000, 0.5000, 0.5000]))\n",
            "\n",
            "Linf norms:\n",
            "PyTorchTensor(tensor([0.0022, 0.0022, 0.0022, 0.0022, 0.0022, 0.0022, 0.0022, 0.0022, 0.0022,\n",
            "                      0.0022, 0.0022, 0.0022, 0.0022, 0.0022, 0.0022, 0.0022]))\n",
            "\n",
            "Time cost: 1.18574 seconds\n"
          ],
          "name": "stdout"
        }
      ]
    },
    {
      "cell_type": "markdown",
      "metadata": {
        "id": "NwrMcYEAyb-i"
      },
      "source": [
        "All attacks individually:"
      ]
    },
    {
      "cell_type": "code",
      "metadata": {
        "colab": {
          "base_uri": "https://localhost:8080/"
        },
        "id": "ddIrJDmyi2jk",
        "outputId": "95589d4d-7daa-4db7-da0d-d26740c3649a"
      },
      "source": [
        "  attack = fb.attacks.L2CarliniWagnerAttack(steps=100)\n",
        "  start = datetime.datetime.now()\n",
        "  advs, _, is_adv = attack(fmodel, images, labels, epsilons=epsilons)\n",
        "  end = datetime.datetime.now()\n",
        "  print(\"======ATTACK NAME: L2 Carlini Wagner Attack ======\")\n",
        "  print(\"attack success rate:\")\n",
        "  attack_success_rate = is_adv.float32().mean(axis=-1)\n",
        "  print(attack_success_rate)\n",
        "  print(\"\")\n",
        "  print(\"L0 norms:\")\n",
        "  print(fb.distances.l0(images, advs))\n",
        "  print(\"\")\n",
        "  print(\"L1 norms:\")\n",
        "  print(fb.distances.l1(images, advs))\n",
        "  print(\"\")\n",
        "  print(\"L2 norms:\")\n",
        "  print(fb.distances.l2(images, advs))\n",
        "  print(\"\")\n",
        "  print(\"Linf norms:\")\n",
        "  print(fb.distances.linf(images, advs))\n",
        "  print(\"\")\n",
        "  print('Time cost: {} seconds'.format(((end-start).total_seconds())))"
      ],
      "execution_count": null,
      "outputs": [
        {
          "output_type": "stream",
          "text": [
            "======ATTACK NAME: L2 Carlini Wagner Attack ======\n",
            "attack success rate:\n",
            "PyTorchTensor(tensor(0.7500))\n",
            "\n",
            "L0 norms:\n",
            "PyTorchTensor(tensor([150528., 150528., 150527., 150528., 150527., 150527., 150525., 145556.,\n",
            "                      150527., 150528., 150528., 150521., 150528., 150528., 150528., 150528.]))\n",
            "\n",
            "L1 norms:\n",
            "PyTorchTensor(tensor([1.1014e+02, 2.2434e+02, 9.4654e+01, 9.2975e+01, 1.5225e+02, 1.1409e+02,\n",
            "                      7.0907e+01, 3.3154e-02, 1.8689e+02, 2.2659e+02, 1.0745e+02, 8.8289e+01,\n",
            "                      2.0281e+02, 1.1860e+02, 7.7198e+01, 2.1298e+02]))\n",
            "\n",
            "L2 norms:\n",
            "PyTorchTensor(tensor([3.2728e-01, 6.3755e-01, 3.0770e-01, 2.9790e-01, 4.0746e-01, 3.4634e-01,\n",
            "                      2.4577e-01, 9.5528e-05, 6.1016e-01, 6.4899e-01, 4.0220e-01, 2.7661e-01,\n",
            "                      5.4893e-01, 3.5090e-01, 2.6737e-01, 5.6474e-01]))\n",
            "\n",
            "Linf norms:\n",
            "PyTorchTensor(tensor([3.7018e-03, 2.3508e-03, 3.7060e-03, 3.7045e-03, 3.5225e-03, 3.6988e-03,\n",
            "                      2.0804e-03, 5.3644e-07, 2.0841e-02, 2.6069e-03, 1.4046e-02, 3.6287e-03,\n",
            "                      2.3587e-03, 3.7054e-03, 2.0804e-03, 2.3538e-03]))\n",
            "\n",
            "Time cost: 360.82393 seconds\n"
          ],
          "name": "stdout"
        }
      ]
    },
    {
      "cell_type": "code",
      "metadata": {
        "colab": {
          "base_uri": "https://localhost:8080/"
        },
        "id": "qe-ZSrIZlMEF",
        "outputId": "239661e5-7b46-46cf-ba96-de9ebaf74e3e"
      },
      "source": [
        "  attack = fa.L2ContrastReductionAttack()\n",
        "  start = datetime.datetime.now()\n",
        "  advs, _, is_adv = attack(fmodel, images, labels, epsilons=epsilons)\n",
        "  end = datetime.datetime.now()\n",
        "  print(\"======ATTACK NAME: L2 Contrast Reduction Attack ======\")\n",
        "  print(\"attack success rate:\")\n",
        "  attack_success_rate = is_adv.float32().mean(axis=-1)\n",
        "  print(attack_success_rate)\n",
        "  print(\"\")\n",
        "  print(\"L0 norms:\")\n",
        "  print(fb.distances.l0(images, advs))\n",
        "  print(\"\")\n",
        "  print(\"L1 norms:\")\n",
        "  print(fb.distances.l1(images, advs))\n",
        "  print(\"\")\n",
        "  print(\"L2 norms:\")\n",
        "  print(fb.distances.l2(images, advs))\n",
        "  print(\"\")\n",
        "  print(\"Linf norms:\")\n",
        "  print(fb.distances.linf(images, advs))\n",
        "  print(\"\")\n",
        "  print('Time cost: {} seconds'.format(((end-start).total_seconds())))"
      ],
      "execution_count": null,
      "outputs": [
        {
          "output_type": "stream",
          "text": [
            "======ATTACK NAME: L2 Contrast Reduction Attack ======\n",
            "attack success rate:\n",
            "PyTorchTensor(tensor(0.0625))\n",
            "\n",
            "L0 norms:\n",
            "PyTorchTensor(tensor([150528., 150528., 150528., 150528., 150528., 150528., 150528., 150528.,\n",
            "                      150528., 150528., 150528., 150528., 150528., 150528., 150528., 150528.]))\n",
            "\n",
            "L1 norms:\n",
            "PyTorchTensor(tensor([166.8194, 159.6962, 173.1231, 168.9075, 163.1219, 154.4686, 161.1778,\n",
            "                      173.2364, 173.8341, 175.0330, 164.9120, 178.4924, 161.4643, 154.1938,\n",
            "                      142.8475, 163.1408]))\n",
            "\n",
            "L2 norms:\n",
            "PyTorchTensor(tensor([0.5000, 0.5000, 0.5000, 0.5000, 0.5000, 0.5000, 0.5000, 0.5000, 0.5000,\n",
            "                      0.5000, 0.5000, 0.5000, 0.5000, 0.5000, 0.5000, 0.5000]))\n",
            "\n",
            "Linf norms:\n",
            "PyTorchTensor(tensor([0.0028, 0.0027, 0.0027, 0.0024, 0.0029, 0.0031, 0.0026, 0.0026, 0.0020,\n",
            "                      0.0023, 0.0024, 0.0019, 0.0027, 0.0040, 0.0048, 0.0031]))\n",
            "\n",
            "Time cost: 1.619489 seconds\n"
          ],
          "name": "stdout"
        }
      ]
    },
    {
      "cell_type": "code",
      "metadata": {
        "colab": {
          "base_uri": "https://localhost:8080/"
        },
        "id": "kfQXjryqDi2C",
        "outputId": "65612ce4-e647-4ec8-fbd3-35312bc1bd99"
      },
      "source": [
        "  attack = fa.DDNAttack()\n",
        "  start = datetime.datetime.now()\n",
        "  advs, _, is_adv = attack(fmodel, images, labels, epsilons=epsilons)\n",
        "  end = datetime.datetime.now()\n",
        "  print(\"======ATTACK NAME: DDNAttack ======\")\n",
        "  print(\"attack success rate:\")\n",
        "  attack_success_rate = is_adv.float32().mean(axis=-1)\n",
        "  print(attack_success_rate)\n",
        "  print(\"\")\n",
        "  print(\"L0 norms:\")\n",
        "  print(fb.distances.l0(images, advs))\n",
        "  print(\"\")\n",
        "  print(\"L1 norms:\")\n",
        "  print(fb.distances.l1(images, advs))\n",
        "  print(\"\")\n",
        "  print(\"L2 norms:\")\n",
        "  print(fb.distances.l2(images, advs))\n",
        "  print(\"\")\n",
        "  print(\"Linf norms:\")\n",
        "  print(fb.distances.linf(images, advs))\n",
        "  print(\"\")\n",
        "  print('Time cost: {} seconds'.format(((end-start).total_seconds())))"
      ],
      "execution_count": null,
      "outputs": [
        {
          "output_type": "stream",
          "text": [
            "======ATTACK NAME: DDNAttack ======\n",
            "attack success rate:\n",
            "PyTorchTensor(tensor(0.9375))\n",
            "\n",
            "L0 norms:\n",
            "PyTorchTensor(tensor([150447., 150521., 150436., 150462., 150467., 150230., 150524.,      0.,\n",
            "                      147010., 150527., 150251., 145195., 149742., 150524., 150510., 150520.]))\n",
            "\n",
            "L1 norms:\n",
            "PyTorchTensor(tensor([160.7966, 189.6486, 189.9163, 181.6256, 199.2537, 175.9630, 173.5249,\n",
            "                        0.0000, 181.2720, 196.4261, 191.1758, 176.8514, 190.9931, 191.1130,\n",
            "                      167.2402, 178.2068]))\n",
            "\n",
            "L2 norms:\n",
            "PyTorchTensor(tensor([0.6966, 0.6966, 0.6966, 0.6966, 0.6966, 0.6966, 0.6966, 0.0000, 0.7699,\n",
            "                      0.6966, 0.6966, 0.6966, 0.6966, 0.6966, 0.6966, 0.6966]))\n",
            "\n",
            "Linf norms:\n",
            "PyTorchTensor(tensor([0.0269, 0.0215, 0.0226, 0.0272, 0.0137, 0.0208, 0.0432, 0.0000, 0.0276,\n",
            "                      0.0172, 0.0185, 0.0298, 0.0223, 0.0164, 0.0322, 0.0240]))\n",
            "\n",
            "Time cost: 48.730274 seconds\n"
          ],
          "name": "stdout"
        }
      ]
    },
    {
      "cell_type": "code",
      "metadata": {
        "colab": {
          "base_uri": "https://localhost:8080/"
        },
        "id": "uz8R2AHSEvty",
        "outputId": "4c6eff04-2bc7-463d-f6e9-5e8c78682f46"
      },
      "source": [
        "  attack = fa.L2BasicIterativeAttack()\n",
        "  start = datetime.datetime.now()\n",
        "  advs, _, is_adv = attack(fmodel, images, labels, epsilons=epsilons)\n",
        "  end = datetime.datetime.now()\n",
        "  print(\"======ATTACK NAME: L2 Basic Iterative Attack ======\")\n",
        "  print(\"attack success rate:\")\n",
        "  attack_success_rate = is_adv.float32().mean(axis=-1)\n",
        "  print(attack_success_rate)\n",
        "  print(\"\")\n",
        "  print(\"L0 norms:\")\n",
        "  print(fb.distances.l0(images, advs))\n",
        "  print(\"\")\n",
        "  print(\"L1 norms:\")\n",
        "  print(fb.distances.l1(images, advs))\n",
        "  print(\"\")\n",
        "  print(\"L2 norms:\")\n",
        "  print(fb.distances.l2(images, advs))\n",
        "  print(\"\")\n",
        "  print(\"Linf norms:\")\n",
        "  print(fb.distances.linf(images, advs))\n",
        "  print(\"\")\n",
        "  print('Time cost: {} seconds'.format(((end-start).total_seconds())))"
      ],
      "execution_count": null,
      "outputs": [
        {
          "output_type": "stream",
          "text": [
            "======ATTACK NAME: L2 Basic Iterative Attack ======\n",
            "attack success rate:\n",
            "PyTorchTensor(tensor(1.))\n",
            "\n",
            "L0 norms:\n",
            "PyTorchTensor(tensor([150439., 150518., 150409., 150466., 150442., 150203., 150518., 150468.,\n",
            "                      146521., 150524., 150252., 142794., 149722., 150522., 150505., 150524.]))\n",
            "\n",
            "L1 norms:\n",
            "PyTorchTensor(tensor([110.7135, 137.1846, 137.8759, 126.3066, 139.6180, 119.2714, 126.9673,\n",
            "                      139.2497, 112.5871, 138.8176, 137.2085, 128.2836, 136.5885, 140.1088,\n",
            "                      121.4503, 124.6061]))\n",
            "\n",
            "L2 norms:\n",
            "PyTorchTensor(tensor([0.5000, 0.5000, 0.5000, 0.5000, 0.5000, 0.5000, 0.5000, 0.5000, 0.5000,\n",
            "                      0.5000, 0.5000, 0.4997, 0.5000, 0.5000, 0.5000, 0.5000]))\n",
            "\n",
            "Linf norms:\n",
            "PyTorchTensor(tensor([0.0252, 0.0163, 0.0137, 0.0237, 0.0129, 0.0236, 0.0179, 0.0137, 0.0191,\n",
            "                      0.0153, 0.0138, 0.0278, 0.0150, 0.0127, 0.0200, 0.0233]))\n",
            "\n",
            "Time cost: 48.642005 seconds\n"
          ],
          "name": "stdout"
        }
      ]
    },
    {
      "cell_type": "code",
      "metadata": {
        "colab": {
          "base_uri": "https://localhost:8080/"
        },
        "id": "MwEHItFYMDG9",
        "outputId": "3c24a280-a426-4278-c1e0-29ba55e811fa"
      },
      "source": [
        "  attack = fa.LinfBasicIterativeAttack()\n",
        "  start = datetime.datetime.now()\n",
        "  advs, _, is_adv = attack(fmodel, images, labels, epsilons=epsilons)\n",
        "  end = datetime.datetime.now()\n",
        "  print(\"======ATTACK NAME: Linf Basic Iterative Attack ======\")\n",
        "  print(\"attack success rate:\")\n",
        "  attack_success_rate = is_adv.float32().mean(axis=-1)\n",
        "  print(attack_success_rate)\n",
        "  print(\"\")\n",
        "  print(\"L0 norms:\")\n",
        "  print(fb.distances.l0(images, advs))\n",
        "  print(\"\")\n",
        "  print(\"L1 norms:\")\n",
        "  print(fb.distances.l1(images, advs))\n",
        "  print(\"\")\n",
        "  print(\"L2 norms:\")\n",
        "  print(fb.distances.l2(images, advs))\n",
        "  print(\"\")\n",
        "  print(\"Linf norms:\")\n",
        "  print(fb.distances.linf(images, advs))\n",
        "  print(\"\")\n",
        "  print('Time cost: {} seconds'.format(((end-start).total_seconds())))"
      ],
      "execution_count": null,
      "outputs": [
        {
          "output_type": "stream",
          "text": [
            "======ATTACK NAME: Linf Basic Iterative Attack ======\n",
            "attack success rate:\n",
            "PyTorchTensor(tensor(1.))\n",
            "\n",
            "L0 norms:\n",
            "PyTorchTensor(tensor([127769., 126826., 124374., 130787., 121805., 123361., 126422., 132567.,\n",
            "                      134565., 128039., 126745., 127706., 127675., 120902., 114924., 124309.]))\n",
            "\n",
            "L1 norms:\n",
            "PyTorchTensor(tensor([28957.6719, 29583.4648, 28440.8301, 28092.3027, 29234.4336, 30121.9238,\n",
            "                      29055.1836, 28676.5820, 27650.2734, 27663.5410, 28834.8711, 27578.3477,\n",
            "                      29066.8301, 30981.5684, 31232.7070, 29364.8652]))\n",
            "\n",
            "L2 norms:\n",
            "PyTorchTensor(tensor([ 93.9197,  95.7196,  92.4944,  92.0553,  95.0104,  97.1819,  94.5973,\n",
            "                       93.0718,  91.3042,  90.8652,  93.9911,  91.2042,  94.3984,  99.2548,\n",
            "                      100.1334,  94.9984]))\n",
            "\n",
            "Linf norms:\n",
            "PyTorchTensor(tensor([0.5000, 0.5000, 0.5000, 0.5000, 0.5000, 0.5000, 0.5000, 0.5000, 0.5000,\n",
            "                      0.5000, 0.5000, 0.5000, 0.5000, 0.5000, 0.5000, 0.5000]))\n",
            "\n",
            "Time cost: 47.660887 seconds\n"
          ],
          "name": "stdout"
        }
      ]
    },
    {
      "cell_type": "code",
      "metadata": {
        "colab": {
          "base_uri": "https://localhost:8080/"
        },
        "id": "oHV-h-3xMv0Y",
        "outputId": "8bf43eb3-6946-43d0-e625-a569e76fc5de"
      },
      "source": [
        "  attack = fa.L2AdditiveGaussianNoiseAttack()\n",
        "  start = datetime.datetime.now()\n",
        "  advs, _, is_adv = attack(fmodel, images, labels, epsilons=epsilons)\n",
        "  end = datetime.datetime.now()\n",
        "  print(\"======ATTACK NAME: L2 Additive Gaussian Noise Attack ======\")\n",
        "  print(\"attack success rate:\")\n",
        "  attack_success_rate = is_adv.float32().mean(axis=-1)\n",
        "  print(attack_success_rate)\n",
        "  print(\"\")\n",
        "  print(\"L0 norms:\")\n",
        "  print(fb.distances.l0(images, advs))\n",
        "  print(\"\")\n",
        "  print(\"L1 norms:\")\n",
        "  print(fb.distances.l1(images, advs))\n",
        "  print(\"\")\n",
        "  print(\"L2 norms:\")\n",
        "  print(fb.distances.l2(images, advs))\n",
        "  print(\"\")\n",
        "  print(\"Linf norms:\")\n",
        "  print(fb.distances.linf(images, advs))\n",
        "  print(\"\")\n",
        "  print('Time cost: {} seconds'.format(((end-start).total_seconds())))"
      ],
      "execution_count": null,
      "outputs": [
        {
          "output_type": "stream",
          "text": [
            "======ATTACK NAME: Linf Basic Iterative Attack ======\n",
            "attack success rate:\n",
            "PyTorchTensor(tensor(0.0625))\n",
            "\n",
            "L0 norms:\n",
            "PyTorchTensor(tensor([150446., 150520., 150361., 150448., 150418., 150170., 150525., 150447.,\n",
            "                      145743., 150526., 150219., 136840., 149726., 150522., 150495., 150526.]))\n",
            "\n",
            "L1 norms:\n",
            "PyTorchTensor(tensor([154.7746, 154.7046, 154.4294, 154.7014, 154.5184, 154.3954, 154.9389,\n",
            "                      154.7644, 149.6208, 154.7926, 154.3581, 140.6115, 153.9662, 154.8448,\n",
            "                      154.6798, 154.7283]))\n",
            "\n",
            "L2 norms:\n",
            "PyTorchTensor(tensor([0.4999, 0.5000, 0.4997, 0.4999, 0.4998, 0.4994, 0.5000, 0.4999, 0.4918,\n",
            "                      0.5000, 0.4995, 0.4767, 0.4987, 0.5000, 0.5000, 0.5000]))\n",
            "\n",
            "Linf norms:\n",
            "PyTorchTensor(tensor([0.0058, 0.0060, 0.0063, 0.0063, 0.0061, 0.0062, 0.0061, 0.0062, 0.0058,\n",
            "                      0.0058, 0.0062, 0.0058, 0.0063, 0.0061, 0.0058, 0.0062]))\n",
            "\n",
            "Time cost: 1.389469 seconds\n"
          ],
          "name": "stdout"
        }
      ]
    },
    {
      "cell_type": "code",
      "metadata": {
        "colab": {
          "background_save": true
        },
        "id": "dht8dDpyNGyZ",
        "outputId": "ec9b83ea-0bcd-4fb9-a5e4-c1dab6e3d172"
      },
      "source": [
        "  attack = fa.SaltAndPepperNoiseAttack()\n",
        "  start = datetime.datetime.now()\n",
        "  advs, _, is_adv = attack(fmodel, images, labels, epsilons=epsilons)\n",
        "  end = datetime.datetime.now()\n",
        "  print(\"======ATTACK NAME: L2 Additive Gaussian Noise Attack ======\")\n",
        "  print(\"attack success rate:\")\n",
        "  attack_success_rate = is_adv.float32().mean(axis=-1)\n",
        "  print(attack_success_rate)\n",
        "  print(\"\")\n",
        "  print(\"L0 norms:\")\n",
        "  print(fb.distances.l0(images, advs))\n",
        "  print(\"\")\n",
        "  print(\"L1 norms:\")\n",
        "  print(fb.distances.l1(images, advs))\n",
        "  print(\"\")\n",
        "  print(\"L2 norms:\")\n",
        "  print(fb.distances.l2(images, advs))\n",
        "  print(\"\")\n",
        "  print(\"Linf norms:\")\n",
        "  print(fb.distances.linf(images, advs))\n",
        "  print(\"\")\n",
        "  print('Time cost: {} seconds'.format(((end-start).total_seconds())))"
      ],
      "execution_count": null,
      "outputs": [
        {
          "output_type": "stream",
          "text": [
            "======ATTACK NAME: L2 Additive Gaussian Noise Attack ======\n",
            "attack success rate:\n",
            "PyTorchTensor(tensor(0.0625))\n",
            "\n",
            "L0 norms:\n",
            "PyTorchTensor(tensor([1.5000e+02, 1.0820e+03, 2.9900e+02, 7.4400e+02, 1.5471e+04, 1.1700e+02,\n",
            "                      3.9000e+01, 0.0000e+00, 1.3740e+03, 3.8037e+04, 4.1930e+03, 1.8600e+02,\n",
            "                      3.1429e+04, 1.0710e+03, 1.2000e+01, 2.2230e+03]))\n",
            "\n",
            "L1 norms:\n",
            "PyTorchTensor(tensor([7.3663e+01, 5.3639e+02, 1.5471e+02, 3.5802e+02, 7.7686e+03, 6.1086e+01,\n",
            "                      2.6541e+01, 0.0000e+00, 7.1110e+02, 1.9006e+04, 2.1305e+03, 1.1451e+02,\n",
            "                      1.5725e+04, 5.4318e+02, 4.4745e+00, 1.0865e+03]))\n",
            "\n",
            "L2 norms:\n",
            "PyTorchTensor(tensor([  6.6280,  18.0658,   9.8822,  14.9698,  68.4303,   6.0155,   4.4386,\n",
            "                        0.0000,  22.3669, 111.3775,  36.9717,   9.5015,  97.8181,  17.3733,\n",
            "                        1.4589,  25.0893]))\n",
            "\n",
            "Linf norms:\n",
            "PyTorchTensor(tensor([0.9412, 0.9922, 0.9843, 0.9961, 1.0000, 0.9529, 0.9647, 0.0000, 1.0000,\n",
            "                      0.9961, 1.0000, 1.0000, 1.0000, 0.9255, 0.6706, 0.9490]))\n",
            "\n",
            "Time cost: 1380.617406 seconds\n"
          ],
          "name": "stdout"
        }
      ]
    },
    {
      "cell_type": "code",
      "metadata": {
        "colab": {
          "base_uri": "https://localhost:8080/"
        },
        "id": "Jr9sudarlZxv",
        "outputId": "e976fd62-e9a7-4b84-f51a-23d10373543a"
      },
      "source": [
        "  attack = fa.NewtonFoolAttack()\n",
        "  start = datetime.datetime.now()\n",
        "  advs, _, is_adv = attack(fmodel, images, labels, epsilons=epsilons)\n",
        "  end = datetime.datetime.now()\n",
        "  print(\"======ATTACK NAME: Newton Fool Attack ======\")\n",
        "  print(\"attack success rate:\")\n",
        "  attack_success_rate = is_adv.float32().mean(axis=-1)\n",
        "  print(attack_success_rate)\n",
        "  print(\"\")\n",
        "  print(\"L0 norms:\")\n",
        "  print(fb.distances.l0(images, advs))\n",
        "  print(\"\")\n",
        "  print(\"L1 norms:\")\n",
        "  print(fb.distances.l1(images, advs))\n",
        "  print(\"\")\n",
        "  print(\"L2 norms:\")\n",
        "  print(fb.distances.l2(images, advs))\n",
        "  print(\"\")\n",
        "  print(\"Linf norms:\")\n",
        "  print(fb.distances.linf(images, advs))\n",
        "  print(\"\")\n",
        "  print('Time cost: {} seconds'.format(((end-start).total_seconds())))"
      ],
      "execution_count": null,
      "outputs": [
        {
          "output_type": "stream",
          "text": [
            "======ATTACK NAME: L2 Additive Gaussian Noise Attack ======\n",
            "attack success rate:\n",
            "PyTorchTensor(tensor(0.6875))\n",
            "\n",
            "L0 norms:\n",
            "PyTorchTensor(tensor([150411., 150516., 150387., 150456., 150429., 150144., 150483.,      0.,\n",
            "                      145769., 150526., 150229., 137026., 149667., 150521., 150456., 150526.]))\n",
            "\n",
            "L1 norms:\n",
            "PyTorchTensor(tensor([2.2077e+01, 4.6774e+04, 3.7900e+01, 4.1146e+01, 8.2313e+03, 1.3383e+04,\n",
            "                      9.5795e+00, 0.0000e+00, 7.5173e+04, 7.3852e+04, 7.4473e+04, 3.3269e+02,\n",
            "                      1.0137e+02, 3.0762e+02, 1.1231e+01, 5.4563e+04]))\n",
            "\n",
            "L2 norms:\n",
            "PyTorchTensor(tensor([1.0502e-01, 1.4844e+02, 1.4212e-01, 1.6122e-01, 2.9372e+01, 5.6520e+01,\n",
            "                      3.9232e-02, 0.0000e+00, 2.2967e+02, 2.1837e+02, 2.1764e+02, 1.3587e+00,\n",
            "                      3.8557e-01, 1.1129e+00, 4.6531e-02, 1.6537e+02]))\n",
            "\n",
            "Linf norms:\n",
            "PyTorchTensor(tensor([0.0049, 1.0000, 0.0063, 0.0061, 0.6823, 0.9412, 0.0019, 0.0000, 1.0000,\n",
            "                      1.0000, 1.0000, 0.0688, 0.0129, 0.0279, 0.0022, 1.0000]))\n",
            "\n",
            "Time cost: 455.983029 seconds\n"
          ],
          "name": "stdout"
        }
      ]
    },
    {
      "cell_type": "code",
      "metadata": {
        "colab": {
          "base_uri": "https://localhost:8080/"
        },
        "id": "euFPxZyqn-Ij",
        "outputId": "930e9e22-b43b-450e-feb9-c93b61513f2e"
      },
      "source": [
        "  attack = fa.L2AdditiveUniformNoiseAttack()\n",
        "  start = datetime.datetime.now()\n",
        "  advs, _, is_adv = attack(fmodel, images, labels, epsilons=epsilons)\n",
        "  end = datetime.datetime.now()\n",
        "  print(\"======ATTACK NAME: L2 Additive Uniform Noise Attack ======\")\n",
        "  print(\"attack success rate:\")\n",
        "  attack_success_rate = is_adv.float32().mean(axis=-1)\n",
        "  print(attack_success_rate)\n",
        "  print(\"\")\n",
        "  print(\"L0 norms:\")\n",
        "  print(fb.distances.l0(images, advs))\n",
        "  print(\"\")\n",
        "  print(\"L1 norms:\")\n",
        "  print(fb.distances.l1(images, advs))\n",
        "  print(\"\")\n",
        "  print(\"L2 norms:\")\n",
        "  print(fb.distances.l2(images, advs))\n",
        "  print(\"\")\n",
        "  print(\"Linf norms:\")\n",
        "  print(fb.distances.linf(images, advs))\n",
        "  print(\"\")\n",
        "  print('Time cost: {} seconds'.format(((end-start).total_seconds())))"
      ],
      "execution_count": null,
      "outputs": [
        {
          "output_type": "stream",
          "text": [
            "======ATTACK NAME: L2 Additive Uniform Noise Attack ======\n",
            "attack success rate:\n",
            "PyTorchTensor(tensor(0.0625))\n",
            "\n",
            "L0 norms:\n",
            "PyTorchTensor(tensor([150441., 150514., 150395., 150459., 150422., 150168., 150520., 150455.,\n",
            "                      145730., 150524., 150234., 137191., 149740., 150519., 150500., 150525.]))\n",
            "\n",
            "L1 norms:\n",
            "PyTorchTensor(tensor([167.8417, 167.8664, 167.8806, 168.0382, 167.8939, 167.6119, 167.9347,\n",
            "                      167.9128, 162.6051, 167.9453, 167.6131, 153.2142, 167.1090, 167.8979,\n",
            "                      168.0092, 168.0011]))\n",
            "\n",
            "L2 norms:\n",
            "PyTorchTensor(tensor([0.4999, 0.5000, 0.4998, 0.4999, 0.4998, 0.4994, 0.5000, 0.4999, 0.4919,\n",
            "                      0.5000, 0.4995, 0.4774, 0.4987, 0.5000, 0.5000, 0.5000]))\n",
            "\n",
            "Linf norms:\n",
            "PyTorchTensor(tensor([0.0022, 0.0022, 0.0022, 0.0022, 0.0022, 0.0022, 0.0022, 0.0022, 0.0022,\n",
            "                      0.0022, 0.0022, 0.0022, 0.0022, 0.0022, 0.0022, 0.0022]))\n",
            "\n",
            "Time cost: 1.334737 seconds\n"
          ],
          "name": "stdout"
        }
      ]
    },
    {
      "cell_type": "code",
      "metadata": {
        "colab": {
          "base_uri": "https://localhost:8080/"
        },
        "id": "N0IYtyqto7e2",
        "outputId": "09bca264-63d3-4c16-c20b-37541eaff3d2"
      },
      "source": [
        "  attack = fa.L2ClippingAwareAdditiveGaussianNoiseAttack()\n",
        "  start = datetime.datetime.now()\n",
        "  advs, _, is_adv = attack(fmodel, images, labels, epsilons=epsilons)\n",
        "  end = datetime.datetime.now()\n",
        "  print(\"======ATTACK NAME: L2 Clipping Aware Additive Gaussian Noise Attack ======\")\n",
        "  print(\"attack success rate:\")\n",
        "  attack_success_rate = is_adv.float32().mean(axis=-1)\n",
        "  print(attack_success_rate)\n",
        "  print(\"\")\n",
        "  print(\"L0 norms:\")\n",
        "  print(fb.distances.l0(images, advs))\n",
        "  print(\"\")\n",
        "  print(\"L1 norms:\")\n",
        "  print(fb.distances.l1(images, advs))\n",
        "  print(\"\")\n",
        "  print(\"L2 norms:\")\n",
        "  print(fb.distances.l2(images, advs))\n",
        "  print(\"\")\n",
        "  print(\"Linf norms:\")\n",
        "  print(fb.distances.linf(images, advs))\n",
        "  print(\"\")\n",
        "  print('Time cost: {} seconds'.format(((end-start).total_seconds())))"
      ],
      "execution_count": null,
      "outputs": [
        {
          "output_type": "stream",
          "text": [
            "======ATTACK NAME: L2 Clipping Aware Additive Gaussian Noise Attack ======\n",
            "attack success rate:\n",
            "PyTorchTensor(tensor(0.0625))\n",
            "\n",
            "L0 norms:\n",
            "PyTorchTensor(tensor([150438., 150520., 150387., 150457., 150420., 150173., 150525., 150450.,\n",
            "                      145710., 150524., 150218., 137063., 149756., 150522., 150502., 150526.]))\n",
            "\n",
            "L1 norms:\n",
            "PyTorchTensor(tensor([154.8324, 154.8331, 154.8308, 154.7361, 154.7878, 154.5051, 154.7570,\n",
            "                      154.7657, 152.2947, 154.7318, 154.5631, 147.7436, 154.4474, 154.8196,\n",
            "                      154.8004, 154.7869]))\n",
            "\n",
            "L2 norms:\n",
            "PyTorchTensor(tensor([0.5000, 0.5000, 0.5000, 0.5000, 0.5000, 0.5000, 0.5000, 0.5000, 0.5000,\n",
            "                      0.5000, 0.5000, 0.5000, 0.5000, 0.5000, 0.5000, 0.5000]))\n",
            "\n",
            "Linf norms:\n",
            "PyTorchTensor(tensor([0.0062, 0.0058, 0.0055, 0.0059, 0.0056, 0.0055, 0.0066, 0.0056, 0.0059,\n",
            "                      0.0056, 0.0056, 0.0070, 0.0061, 0.0074, 0.0060, 0.0058]))\n",
            "\n",
            "Time cost: 1.900151 seconds\n"
          ],
          "name": "stdout"
        }
      ]
    }
  ]
}